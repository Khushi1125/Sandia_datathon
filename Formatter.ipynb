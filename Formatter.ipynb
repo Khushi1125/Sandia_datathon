{
 "cells": [
  {
   "cell_type": "code",
   "execution_count": 3,
   "id": "1bc2975e",
   "metadata": {},
   "outputs": [],
   "source": [
    "from glob import glob\n",
    "import pandas as pd\n",
    "import os.path\n",
    "\n",
    "for filename in glob(r'\"C:\\Users\\Trish\\Documents\\Datathon\\Individual_ERP\"'):\n",
    "    id = os.path.basename(filename).lstrip('agent_op_').rstrip('_.csv')\n",
    "    df = pd.read_csv(filename)\n",
    "    df['run_id'] = id\n",
    "    df.to_csv(filename, index=False)"
   ]
  },
  {
   "cell_type": "code",
   "execution_count": 5,
   "id": "42aeac24",
   "metadata": {},
   "outputs": [
    {
     "ename": "NameError",
     "evalue": "name 'filename' is not defined",
     "output_type": "error",
     "traceback": [
      "\u001b[1;31m---------------------------------------------------------------------------\u001b[0m",
      "\u001b[1;31mNameError\u001b[0m                                 Traceback (most recent call last)",
      "Cell \u001b[1;32mIn[5], line 1\u001b[0m\n\u001b[1;32m----> 1\u001b[0m filename\n",
      "\u001b[1;31mNameError\u001b[0m: name 'filename' is not defined"
     ]
    }
   ],
   "source": [
    "filename"
   ]
  },
  {
   "cell_type": "code",
   "execution_count": 17,
   "id": "af998b1e",
   "metadata": {},
   "outputs": [
    {
     "name": "stdout",
     "output_type": "stream",
     "text": [
      "CSV files combined successfully!\n"
     ]
    }
   ],
   "source": [
    "import pandas as pd\n",
    "import os\n",
    "\n",
    "# Specify the directory containing the CSV files\n",
    "\n",
    "# Create an empty list to hold DataFrames\n",
    "dataframes = []\n",
    "\n",
    "# Iterate over all files in the directory\n",
    "for filename in os.listdir(r'C:\\Users\\Trish\\Documents\\Datathon\\Individual_ERPs\\EEG_Measurements'):\n",
    "    if filename.endswith('.csv'):\n",
    "        # Read the CSV file\n",
    "        file_path = os.path.join(r'C:\\Users\\Trish\\Documents\\Datathon\\Individual_ERPs\\EEG_Measurements', filename)\n",
    "        df = pd.read_csv(file_path)\n",
    "        \n",
    "        # Add a new column with the file name (without .csv extension)\n",
    "        df['file_id'] = filename[:-4]\n",
    "        \n",
    "        # Append the DataFrame to the list\n",
    "        dataframes.append(df)\n",
    "\n",
    "# Concatenate all DataFrames in the list into a single DataFrame\n",
    "combined_df = pd.concat(dataframes, ignore_index=True)\n",
    "\n",
    "# Save the combined DataFrame to a new CSV file\n",
    "combined_df.to_csv('combined_output.csv', index=False)\n",
    "\n",
    "print(\"CSV files combined successfully!\")\n"
   ]
  },
  {
   "cell_type": "code",
   "execution_count": null,
   "id": "18c51090",
   "metadata": {},
   "outputs": [],
   "source": []
  }
 ],
 "metadata": {
  "kernelspec": {
   "display_name": "Python 3 (ipykernel)",
   "language": "python",
   "name": "python3"
  },
  "language_info": {
   "codemirror_mode": {
    "name": "ipython",
    "version": 3
   },
   "file_extension": ".py",
   "mimetype": "text/x-python",
   "name": "python",
   "nbconvert_exporter": "python",
   "pygments_lexer": "ipython3",
   "version": "3.11.5"
  }
 },
 "nbformat": 4,
 "nbformat_minor": 5
}
